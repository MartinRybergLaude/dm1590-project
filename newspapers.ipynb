{
 "cells": [
  {
   "cell_type": "markdown",
   "metadata": {},
   "source": [
    "# Title: DM1590 Final Project Template\n",
    "\n",
    "## Authors: Markus Brewitz, Linus Wallin, Saga Jonasson, Vilhelm Norström, Martin Ryberg Laude\n",
    "\n",
    "---"
   ]
  },
  {
   "cell_type": "markdown",
   "metadata": {},
   "source": [
    "### Background and motivation\n",
    "\n",
    "News articles come in a variety of subjects and categories describing their field and relevance. Some of these have self-reported tags, but too many do not, or provide inaccurate tags. Tagging articles has the potential to help information-seekers to judge the relevance of articles and filter them by interest, especially in this day and age where information is so abundant it can be exhausting. In this project we set out to use machine learning to tag articles based on their titles, to aid the effort of searching for relevant information."
   ]
  },
  {
   "cell_type": "markdown",
   "metadata": {},
   "source": [
    "### Dataset\n",
    "\n",
    "https://archive.ics.uci.edu/ml/datasets/News+Aggregator\n",
    "\n",
    "This dataset contains tags along with corresponding news titles, which we use to train our models."
   ]
  },
  {
   "cell_type": "markdown",
   "metadata": {},
   "source": [
    "### Methodology\n",
    "\n",
    "Describe what you are doing and how you are doing it."
   ]
  },
  {
   "cell_type": "markdown",
   "metadata": {},
   "source": [
    "---"
   ]
  },
  {
   "cell_type": "markdown",
   "metadata": {},
   "source": [
    "##  Classification"
   ]
  },
  {
   "cell_type": "markdown",
   "metadata": {},
   "source": [
    "### 1.1 Import data and libraries"
   ]
  },
  {
   "cell_type": "code",
   "execution_count": 2,
   "metadata": {},
   "outputs": [
    {
     "name": "stderr",
     "output_type": "stream",
     "text": [
      "[nltk_data] Downloading package wordnet to\n",
      "[nltk_data]     C:\\Users\\SagaA\\AppData\\Roaming\\nltk_data...\n",
      "[nltk_data]   Package wordnet is already up-to-date!\n",
      "[nltk_data] Downloading package omw-1.4 to\n",
      "[nltk_data]     C:\\Users\\SagaA\\AppData\\Roaming\\nltk_data...\n",
      "[nltk_data]   Package omw-1.4 is already up-to-date!\n"
     ]
    }
   ],
   "source": [
    "import pandas as pd\n",
    "import numpy as np\n",
    "import nltk\n",
    "#import spacy  # Might not be necessary, and proved to be annoying to deal with\n",
    "#import re\n",
    "import matplotlib.pyplot as plt\n",
    "import mglearn\n",
    "from sklearn.feature_extraction import text\n",
    "from sklearn.feature_extraction.text import CountVectorizer\n",
    "from sklearn.feature_extraction.text import TfidfVectorizer\n",
    "from nltk.tokenize import RegexpTokenizer\n",
    "from nltk.stem import WordNetLemmatizer\n",
    "from nltk.stem.snowball import SnowballStemmer\n",
    "from sklearn.model_selection import cross_val_score\n",
    "from sklearn.linear_model import LogisticRegression\n",
    "from sklearn.model_selection import train_test_split\n",
    "from sklearn.model_selection import GridSearchCV\n",
    "from sklearn.cluster import KMeans\n",
    "from sklearn.decomposition import TruncatedSVD\n",
    "from sklearn.pipeline import make_pipeline\n",
    "from sklearn.neighbors import KNeighborsClassifier\n",
    "from sklearn.metrics import plot_confusion_matrix\n",
    "nltk.download('wordnet')\n",
    "nltk.download('omw-1.4')\n",
    "\n",
    "column_names = [\"id\", \"title\", \"url\", \"publisher\", \"category\", \"story\", \"hostname\", \"timestamp\"]\n",
    "data = pd.read_csv('NewsAggregatorDataset/newsCorpora.csv',sep='\\t',header=None, names=column_names)\n"
   ]
  },
  {
   "cell_type": "code",
   "execution_count": 76,
   "metadata": {},
   "outputs": [],
   "source": [
    "# ONLY run this if you want a shorter training and test set\n",
    "# Useful for testing code\n",
    "\n",
    "data = pd.read_csv('NewsAggregatorDataset/newsCorpora_short.csv',sep='\\t',header=None, names=column_names)"
   ]
  },
  {
   "cell_type": "markdown",
   "metadata": {},
   "source": [
    "### 1.2 Vectorize data\n",
    "\n",
    "By making use of the Bag of Words method (BoW) and its more advanced term frequency identifier 'variant' (Eh, we'll just change the description later) we can transform our data represented in documents of strings to feature vectors that we can machine learning methods on. To further improve the vectorization of our dataset we can also make use of n-Grams, as well as advanced methods of tokenization for the words in our dataset, such as normalizing the data through lemmatization."
   ]
  },
  {
   "cell_type": "code",
   "execution_count": 3,
   "metadata": {},
   "outputs": [
    {
     "name": "stderr",
     "output_type": "stream",
     "text": [
      "C:\\Users\\SagaA\\AppData\\Local\\Packages\\PythonSoftwareFoundation.Python.3.10_qbz5n2kfra8p0\\LocalCache\\local-packages\\Python310\\site-packages\\sklearn\\feature_extraction\\text.py:396: UserWarning: Your stop_words may be inconsistent with your preprocessing. Tokenizing the stop words generated tokens ['ha', 'le', 'u', 'wa'] not in stop_words.\n",
      "  warnings.warn(\n",
      "C:\\Users\\SagaA\\AppData\\Local\\Packages\\PythonSoftwareFoundation.Python.3.10_qbz5n2kfra8p0\\LocalCache\\local-packages\\Python310\\site-packages\\sklearn\\feature_extraction\\text.py:516: UserWarning: The parameter 'token_pattern' will not be used since 'tokenizer' is not None'\n",
      "  warnings.warn(\n"
     ]
    }
   ],
   "source": [
    "# Delete duplicates\n",
    "data[data['title'].duplicated(\n",
    "    keep=False)].sort_values('title').head(8)\n",
    "data = data.drop_duplicates('title')\n",
    "corpus = data.title\n",
    "\n",
    "# Split the data\n",
    "corpus_train, corpus_test, y_train, y_test = train_test_split(corpus, data.category, train_size=0.7)  # TODO: Figure out a good ratio for training data vs test data\n",
    "\n",
    "# Establishing stopwords\n",
    "punc = ['.', ',', '\"', \"'\", '?', '!', ':',\n",
    "        ';', '(', ')', '[', ']', '{', '}', \"%\"]\n",
    "stop_words = text.ENGLISH_STOP_WORDS.union(punc)\n",
    "\n",
    "'''# regular expressions to be used in the TfidfVectorizer\n",
    "regexp = re.compile('(?u)\\\\b\\\\w\\\\w+\\\\b')\n",
    "\n",
    "# load spacy's English-language models\n",
    "en_nlp = spacy.load(\"en_core_web_sm\", disable=['parser', 'ner'])'''\n",
    "\n",
    "# Creates a tokenizer for stemming\n",
    "stemmer = SnowballStemmer('english')\n",
    "tokenizer = RegexpTokenizer(r'[a-zA-Z\\']+')\n",
    "\n",
    "def tokenize(document):\n",
    "    return [stemmer.stem(word) for word in tokenizer.tokenize(document.lower())]\n",
    "\n",
    "\n",
    "# Creates a tokenizer for lemmatization\n",
    "lemmatizer = WordNetLemmatizer()\n",
    "\n",
    "def lem_tokenize(document):\n",
    "    return [lemmatizer.lemmatize(word) for word in tokenizer.tokenize(document.lower())]\n",
    "\n",
    "\n",
    "'''# Creates a tokenizer for lemmatization (A bit unsure about why we do a couple of these things)\n",
    "old_tokenizer = en_nlp.tokenizer\n",
    "# replace the tokenizer with the preceding regexp\n",
    "en_nlp.tokenizer = lambda string: old_tokenizer.tokens_from_list(\n",
    "    regexp.findall(string))\n",
    "\n",
    "def lem_tokenizer(document):\n",
    "    doc_spacy = en_nlp(document)\n",
    "    return [token.lemma_ for token in doc_spacy]'''\n",
    "\n",
    "# TODO: Experiment with the min_df value to find what works best for it\n",
    "vect = TfidfVectorizer(min_df=5, stop_words=stop_words,\n",
    "                       tokenizer=lem_tokenize)\n",
    "vec_matrix = vect.fit_transform(corpus) # Vectorizes the data\n",
    "\n",
    "\n",
    "'''# Temporary code\n",
    "vect_temp = vect = TfidfVectorizer(min_df=5, stop_words=stop_words,\n",
    "                       tokenizer=tokenize)\n",
    "vect_temp.fit(corpus_train)\n",
    "X_train_temp = vect_temp.transform(corpus_train)'''\n",
    "\n",
    "\n",
    "# Get feature names (title words)\n",
    "feature_names = np.array(vect.get_feature_names_out())\n",
    "\n",
    "# Transforms the training data using our vectorizer\n",
    "vect.fit(corpus_train)\n",
    "X_train = vect.transform(corpus_train)\n",
    "X_test = vect.transform(corpus_test) # Vectorizing the test data\n"
   ]
  },
  {
   "cell_type": "code",
   "execution_count": 38,
   "metadata": {},
   "outputs": [
    {
     "name": "stdout",
     "output_type": "stream",
     "text": [
      "X_train.shape: (295693, 13399)\n",
      "X_train_temp.shape: (295693, 13399)\n",
      "X_train3.shape: (295693, 94686)\n",
      "Vocabulary size: 94686\n"
     ]
    }
   ],
   "source": [
    "''' Temporary cell for comparing the number of features from the different tokenization methods '''\n",
    "\n",
    "vect3 = TfidfVectorizer(min_df=5, ngram_range=(1, 3), stop_words=stop_words)\n",
    "vect3.fit(corpus_train)\n",
    "X_train3 = vect3.transform(corpus_train)\n",
    "\n",
    "print(\"X_train.shape: {}\".format(X_train.shape))\n",
    "print(\"X_train_temp.shape: {}\".format(X_train_temp.shape))\n",
    "print(\"X_train3.shape: {}\".format(X_train3.shape))\n",
    "\n",
    "print(\"Vocabulary size: {}\".format(len(vect3.vocabulary_)))"
   ]
  },
  {
   "cell_type": "markdown",
   "metadata": {},
   "source": [
    "### 1.3 Temporary cells\n",
    "\n",
    "Experimental cells for min_df parameter and logistic regression"
   ]
  },
  {
   "cell_type": "code",
   "execution_count": 45,
   "metadata": {},
   "outputs": [
    {
     "name": "stdout",
     "output_type": "stream",
     "text": [
      "1000\n",
      "['q' 'quarter' 'question' 'quit' 'rais' 'ralli' 'rank' 'rapper' 'rare'\n",
      " 'rate' 'reach' 'read' 'readi' 'real' 'realiti' 'realli' 'reason' 'recal'\n",
      " 'recap' 'receiv' 'record' 'red' 'reduc' 'regul' 'reject' 'releas'\n",
      " 'remain' 'remov' 'renew' 'replac' 'report' 'research' 'respond' 'result'\n",
      " 'retail' 'return' 'reveal' 'revenu' 'review' 'right' 'rihanna' 'rise'\n",
      " 'risk' 'rival' 'road' 'robert' 'robin' 'rock' 'rogen' 'role' 'rolf'\n",
      " 'roll' 'round' 'rule' 'rumor' 'run' 'russia' 'russian' 'ryan' 's'\n",
      " 'safeti' 'said' 'sale' 'samsung' 'san' 'satellit' 'save' 'say' 'scandal'\n",
      " 'scene' 'school' 'scienc' 'scientist' 'scott' 'screen' 'search' 'season'\n",
      " 'second' 'secret' 'secur' 'seek' 'seen' 'selena' 'self' 'selfi' 'sell'\n",
      " 'send' 'sequel' 'seri' 'servic' 'set' 'seth' 'settl' 'settlement' 'sex'\n",
      " 'share' 'ship' 'shock' 'shoot' 'shop']\n",
      "Features with lowest tfidf:\n",
      "['vii' 'rogen' 'ignit' \"'x\" 'breast' 'fallon' 'peach' 'pitt' 'tab'\n",
      " 'stream' 'hunger' 'xp' 'lg' 'virtual' 'york' 'playstat' 'dawn'\n",
      " 'smartwatch' 'spoiler' 'cent']\n",
      "Features with highest tfidf: \n",
      "['file' 'film' 'final' 'leak' 'financi' 'firm' 'fit' 'fix' 'fli' 'flight'\n",
      " 'focus' 'follow' 'food' 'forc' 'ford' 'forecast' 'fox' 'franc' 'fine'\n",
      " 'zac']\n"
     ]
    }
   ],
   "source": [
    "'''*** This cell is only here to visualize the min_df param. It has no real meaning outside of that scope ***'''\n",
    "# Find maximum value for each of the features over the dataset\n",
    "max_value = X_train.max(axis=0).toarray().ravel()\n",
    "sorted_by_tfidf = max_value.argsort()\n",
    "\n",
    "print(\"Features with lowest tfidf:\\n{}\".format(\n",
    "    feature_names[sorted_by_tfidf[:20]]))\n",
    "\n",
    "print(\"Features with highest tfidf: \\n{}\".format(\n",
    "    feature_names[sorted_by_tfidf[-20:]]))\n"
   ]
  },
  {
   "cell_type": "code",
   "execution_count": 36,
   "metadata": {},
   "outputs": [
    {
     "name": "stdout",
     "output_type": "stream",
     "text": [
      "Best cross-validation score: 0.99\n",
      "Best parameters:  {'C': 10}\n"
     ]
    }
   ],
   "source": [
    "''' ***DO NOT RUN THIS CELLBLOCK IF YOU CAN AVOID IT*** '''\n",
    "\n",
    "# Searches for the best value for C for logistic regression\n",
    "param_grid = {'C': [0.001, 0.01, 0.1, 1, 10]}\n",
    "grid = GridSearchCV(LogisticRegression(max_iter=1000), param_grid, cv=5)\n",
    "grid.fit(X_train, y_train)\n",
    "print(\"Best cross-validation score: {:.2f}\".format(grid.best_score_))\n",
    "print(\"Best parameters: \", grid.best_params_)"
   ]
  },
  {
   "cell_type": "code",
   "execution_count": 13,
   "metadata": {},
   "outputs": [
    {
     "name": "stdout",
     "output_type": "stream",
     "text": [
      "Test score: 0.99\n"
     ]
    }
   ],
   "source": [
    "'''\n",
    "Best cross-validation score: 0.95\n",
    "Best parameters:  {'C': 10}\n",
    "'''\n",
    "print(\"Test score: {:.2f}\".format(grid.score(X_test, y_test)))"
   ]
  },
  {
   "cell_type": "code",
   "execution_count": 50,
   "metadata": {},
   "outputs": [
    {
     "name": "stderr",
     "output_type": "stream",
     "text": [
      "C:\\Users\\Markus\\AppData\\Local\\Programs\\Python\\Python310\\lib\\site-packages\\sklearn\\feature_extraction\\text.py:396: UserWarning: Your stop_words may be inconsistent with your preprocessing. Tokenizing the stop words generated tokens ['ha', 'le', 'u', 'wa'] not in stop_words.\n",
      "  warnings.warn(\n",
      "C:\\Users\\Markus\\AppData\\Local\\Programs\\Python\\Python310\\lib\\site-packages\\sklearn\\feature_extraction\\text.py:396: UserWarning: Your stop_words may be inconsistent with your preprocessing. Tokenizing the stop words generated tokens ['ha', 'le', 'u', 'wa'] not in stop_words.\n",
      "  warnings.warn(\n",
      "C:\\Users\\Markus\\AppData\\Local\\Programs\\Python\\Python310\\lib\\site-packages\\sklearn\\feature_extraction\\text.py:396: UserWarning: Your stop_words may be inconsistent with your preprocessing. Tokenizing the stop words generated tokens ['ha', 'le', 'u', 'wa'] not in stop_words.\n",
      "  warnings.warn(\n",
      "C:\\Users\\Markus\\AppData\\Local\\Programs\\Python\\Python310\\lib\\site-packages\\sklearn\\feature_extraction\\text.py:396: UserWarning: Your stop_words may be inconsistent with your preprocessing. Tokenizing the stop words generated tokens ['ha', 'le', 'u', 'wa'] not in stop_words.\n",
      "  warnings.warn(\n",
      "C:\\Users\\Markus\\AppData\\Local\\Programs\\Python\\Python310\\lib\\site-packages\\sklearn\\feature_extraction\\text.py:396: UserWarning: Your stop_words may be inconsistent with your preprocessing. Tokenizing the stop words generated tokens ['ha', 'le', 'u', 'wa'] not in stop_words.\n",
      "  warnings.warn(\n",
      "C:\\Users\\Markus\\AppData\\Local\\Programs\\Python\\Python310\\lib\\site-packages\\sklearn\\feature_extraction\\text.py:396: UserWarning: Your stop_words may be inconsistent with your preprocessing. Tokenizing the stop words generated tokens ['ha', 'le', 'u', 'wa'] not in stop_words.\n",
      "  warnings.warn(\n",
      "C:\\Users\\Markus\\AppData\\Local\\Programs\\Python\\Python310\\lib\\site-packages\\sklearn\\feature_extraction\\text.py:396: UserWarning: Your stop_words may be inconsistent with your preprocessing. Tokenizing the stop words generated tokens ['ha', 'le', 'u', 'wa'] not in stop_words.\n",
      "  warnings.warn(\n",
      "C:\\Users\\Markus\\AppData\\Local\\Programs\\Python\\Python310\\lib\\site-packages\\sklearn\\feature_extraction\\text.py:396: UserWarning: Your stop_words may be inconsistent with your preprocessing. Tokenizing the stop words generated tokens ['ha', 'le', 'u', 'wa'] not in stop_words.\n",
      "  warnings.warn(\n",
      "C:\\Users\\Markus\\AppData\\Local\\Programs\\Python\\Python310\\lib\\site-packages\\sklearn\\feature_extraction\\text.py:396: UserWarning: Your stop_words may be inconsistent with your preprocessing. Tokenizing the stop words generated tokens ['ha', 'le', 'u', 'wa'] not in stop_words.\n",
      "  warnings.warn(\n",
      "C:\\Users\\Markus\\AppData\\Local\\Programs\\Python\\Python310\\lib\\site-packages\\sklearn\\feature_extraction\\text.py:396: UserWarning: Your stop_words may be inconsistent with your preprocessing. Tokenizing the stop words generated tokens ['ha', 'le', 'u', 'wa'] not in stop_words.\n",
      "  warnings.warn(\n",
      "C:\\Users\\Markus\\AppData\\Local\\Programs\\Python\\Python310\\lib\\site-packages\\sklearn\\feature_extraction\\text.py:396: UserWarning: Your stop_words may be inconsistent with your preprocessing. Tokenizing the stop words generated tokens ['ha', 'le', 'u', 'wa'] not in stop_words.\n",
      "  warnings.warn(\n",
      "C:\\Users\\Markus\\AppData\\Local\\Programs\\Python\\Python310\\lib\\site-packages\\sklearn\\feature_extraction\\text.py:396: UserWarning: Your stop_words may be inconsistent with your preprocessing. Tokenizing the stop words generated tokens ['ha', 'le', 'u', 'wa'] not in stop_words.\n",
      "  warnings.warn(\n",
      "C:\\Users\\Markus\\AppData\\Local\\Programs\\Python\\Python310\\lib\\site-packages\\sklearn\\feature_extraction\\text.py:396: UserWarning: Your stop_words may be inconsistent with your preprocessing. Tokenizing the stop words generated tokens ['ha', 'le', 'u', 'wa'] not in stop_words.\n",
      "  warnings.warn(\n",
      "C:\\Users\\Markus\\AppData\\Local\\Programs\\Python\\Python310\\lib\\site-packages\\sklearn\\feature_extraction\\text.py:396: UserWarning: Your stop_words may be inconsistent with your preprocessing. Tokenizing the stop words generated tokens ['ha', 'le', 'u', 'wa'] not in stop_words.\n",
      "  warnings.warn(\n",
      "C:\\Users\\Markus\\AppData\\Local\\Programs\\Python\\Python310\\lib\\site-packages\\sklearn\\feature_extraction\\text.py:396: UserWarning: Your stop_words may be inconsistent with your preprocessing. Tokenizing the stop words generated tokens ['ha', 'le', 'u', 'wa'] not in stop_words.\n",
      "  warnings.warn(\n",
      "C:\\Users\\Markus\\AppData\\Local\\Programs\\Python\\Python310\\lib\\site-packages\\sklearn\\feature_extraction\\text.py:396: UserWarning: Your stop_words may be inconsistent with your preprocessing. Tokenizing the stop words generated tokens ['ha', 'le', 'u', 'wa'] not in stop_words.\n",
      "  warnings.warn(\n"
     ]
    },
    {
     "name": "stdout",
     "output_type": "stream",
     "text": [
      "Best cross-validation score: 0.95\n",
      "Best parameters:\n",
      "{'logisticregression__C': 10, 'tfidfvectorizer__ngram_range': (1, 2)}\n"
     ]
    },
    {
     "data": {
      "text/plain": [
       "<matplotlib.colorbar.Colorbar at 0x24b0035c3d0>"
      ]
     },
     "execution_count": 50,
     "metadata": {},
     "output_type": "execute_result"
    },
    {
     "data": {
      "image/png": "[encoded data removed]",
      "text/plain": [
       "<Figure size 432x288 with 2 Axes>"
      ]
     },
     "metadata": {
      "needs_background": "light"
     },
     "output_type": "display_data"
    }
   ],
   "source": [
    "''' *** Cellblock for determining the best nGram value *** '''\n",
    "\n",
    "pipe = make_pipeline(TfidfVectorizer(min_df=5, stop_words=stop_words, tokenizer=lem_tokenize), LogisticRegression(max_iter=1000))\n",
    "# running the grid search takes a long time because of the\n",
    "# relatively large grid and the inclusion of trigrams\n",
    "param_grid = {\"logisticregression__C\": [10],\n",
    "              \"tfidfvectorizer__ngram_range\": [(1, 1), (1, 2), (1, 3)]}\n",
    "\n",
    "grid = GridSearchCV(pipe, param_grid, cv=5)\n",
    "grid.fit(corpus_train, y_train)\n",
    "print(\"Best cross-validation score: {:.2f}\".format(grid.best_score_))\n",
    "print(\"Best parameters:\\n{}\".format(grid.best_params_))\n",
    "\n",
    "# extract scores from grid_search\n",
    "scores = grid.cv_results_['mean_test_score'].reshape(-1, 3).T\n",
    "# visualize heat map\n",
    "heatmap = mglearn.tools.heatmap(\n",
    "    scores, xlabel=\"C\", ylabel=\"ngram_range\", cmap=\"viridis\", fmt=\"%.3f\",\n",
    "    xticklabels=param_grid['logisticregression__C'],\n",
    "    yticklabels=param_grid['tfidfvectorizer__ngram_range'])\n",
    "plt.colorbar(heatmap)\n",
    "\n",
    "'''\n",
    "Best cross-validation score: 0.95\n",
    "Best parameters:\n",
    "{'logisticregression__C': 10, 'tfidfvectorizer__ngram_range': (1, 2)}\n",
    "(Bigram and trigram had the same results)\n",
    "'''"
   ]
  },
  {
   "cell_type": "markdown",
   "metadata": {},
   "source": [
    "## Clustering"
   ]
  },
  {
   "cell_type": "markdown",
   "metadata": {},
   "source": [
    "### The elbow method\n",
    "\n",
    "By using the elbow method we can identify how many clusters we should pick. We look at variance percentage as a function of the amount of clusters, as we should pick a cluster amount where adding more clusters wouldn't give better modeling. Plotting a graph of this results in the marginal gain dropping at some point(s) giving a downwards angle in the graph. "
   ]
  },
  {
   "cell_type": "code",
   "execution_count": 46,
   "metadata": {},
   "outputs": [
    {
     "data": {
      "image/png": "[encoded data removed]",
      "text/plain": [
       "<Figure size 432x288 with 1 Axes>"
      ]
     },
     "metadata": {
      "needs_background": "light"
     },
     "output_type": "display_data"
    }
   ],
   "source": [
    "\n",
    "wcss = []\n",
    "for i in range(1, 11):\n",
    "    kmeans = KMeans(n_clusters=i, init='k-means++',\n",
    "                    max_iter=300, n_init=10, random_state=0)\n",
    "    kmeans.fit(vec_matrix)\n",
    "    wcss.append(kmeans.inertia_)\n",
    "plt.plot(range(1, 11), wcss)\n",
    "plt.title('The Elbow Method')\n",
    "plt.xlabel('Number of clusters')\n",
    "plt.ylabel('WCSS')\n",
    "plt.show()\n"
   ]
  },
  {
   "cell_type": "markdown",
   "metadata": {},
   "source": [
    "### 5 Clusters"
   ]
  },
  {
   "cell_type": "code",
   "execution_count": 47,
   "metadata": {},
   "outputs": [
    {
     "name": "stdout",
     "output_type": "stream",
     "text": [
      "0 : good, video, start, year, appl, day, stone, galaxi, princ, eye, rihanna, million, receiv, watch, read, china, miss, cabl, second, malaysia, die, samsung, tip, deal, unveil\n",
      "1 : safeti, san, gain, u, appl, tablet, parent, nyc, vs, growth, ipo, princ, smartwatch, lawsuit, android, speed, mix, paul, stone, rihanna, gay, samsung, fda, remov, pick\n",
      "2 : king, kate, kardashian, west, wed, vogu, crash, pictur, martin, jennif, number, kick, dress, babi, loss, bieber, review, day, nick, black, plan, pass, respond, michael, site\n",
      "3 : nick, york, album, train, remov, video, appl, fda, good, announc, start, respond, lawsuit, hope, second, review, app, music, watch, univers, loss, ceo, success, galaxi, samsung\n",
      "4 : scandal, respond, minut, cyrus, jenner, z, bieber, toyota, climat, appl, chang, soldier, video, host, success, good, russia, case, jobless, year, hear, birth, attack, ceo, miss\n"
     ]
    }
   ],
   "source": [
    "kmeans = KMeans(n_clusters=5, n_init=20)\n",
    "kmeans.fit(vec_matrix)\n",
    "# We look at 5 the clusters generated by k-means.\n",
    "common_words = kmeans.cluster_centers_.argsort()[:, -1:-26:-1]\n",
    "for num, centroid in enumerate(common_words):\n",
    "    print(str(num) + ' : ' +\n",
    "          ', '.join(feature_names[word] for word in centroid))\n"
   ]
  },
  {
   "cell_type": "markdown",
   "metadata": {},
   "source": [
    "---\n",
    "## Classification\n",
    "### kNN model\n",
    "#### Find the most accurate k-value"
   ]
  },
  {
   "cell_type": "code",
   "execution_count": 90,
   "metadata": {},
   "outputs": [
    {
     "data": {
      "image/png": "[encoded data removed]",
      "text/plain": [
       "<Figure size 864x576 with 1 Axes>"
      ]
     },
     "metadata": {
      "needs_background": "light"
     },
     "output_type": "display_data"
    }
   ],
   "source": [
    "# TAKES VERY LONG with the entire data\n",
    "# This is because it essentially has to do the model 10 times\n",
    "# This might not actually be required for the project...\n",
    "\n",
    "# Find the most accurate k-value \n",
    "training_accuracy = []\n",
    "test_accuracy = []\n",
    "k_arr = range(1, 10)\n",
    "\n",
    "# Creates and trains all of the classifiers, and saves the results in arrays\n",
    "for k in k_arr:\n",
    "  clf = KNeighborsClassifier(n_neighbors=k)  # Initializes kNN classifier with k neighbors\n",
    "  clf.fit(X_train, y_train) # Fits the classifier to the data\n",
    "  training_accuracy.append(clf.score(X_train, y_train)) # Records training set accuracy\n",
    "  test_accuracy.append(clf.score(X_test, y_test))  # Records generalization accuracy\n",
    "\n",
    "plt.figure(figsize=(12, 8))\n",
    "plt.plot(k_arr, training_accuracy, label=\"Training accuracy\")\n",
    "plt.plot(k_arr, test_accuracy, label=\"Test accuracy\")\n",
    "plt.ylabel(\"Accuracy\")\n",
    "plt.xlabel(\"n_neighbors\")\n",
    "plt.legend()\n",
    "plt.grid()\n",
    "plt.show()"
   ]
  },
  {
   "cell_type": "markdown",
   "metadata": {},
   "source": [
    "We can see that the most accurate k-value for test values is 2.\n",
    "#### Apply most accurate model"
   ]
  },
  {
   "cell_type": "code",
   "execution_count": 4,
   "metadata": {},
   "outputs": [
    {
     "name": "stderr",
     "output_type": "stream",
     "text": [
      "C:\\Users\\SagaA\\AppData\\Local\\Packages\\PythonSoftwareFoundation.Python.3.10_qbz5n2kfra8p0\\LocalCache\\local-packages\\Python310\\site-packages\\sklearn\\utils\\deprecation.py:87: FutureWarning: Function plot_confusion_matrix is deprecated; Function `plot_confusion_matrix` is deprecated in 1.0 and will be removed in 1.2. Use one of the class methods: ConfusionMatrixDisplay.from_predictions or ConfusionMatrixDisplay.from_estimator.\n",
      "  warnings.warn(msg, category=FutureWarning)\n"
     ]
    },
    {
     "data": {
      "image/png": "[encoded data removed]",
      "text/plain": [
       "<Figure size 432x288 with 2 Axes>"
      ]
     },
     "metadata": {
      "needs_background": "light"
     },
     "output_type": "display_data"
    },
    {
     "name": "stdout",
     "output_type": "stream",
     "text": [
      "Accuracy: 0.8548\n"
     ]
    }
   ],
   "source": [
    "# Convert y to more easily understood values\n",
    "y_train = ['Business' if i=='b' else 'Science/Tech' if i=='t' else 'Entertainment' if i=='e' else 'Health' if i=='m' else i for i in y_train]\n",
    "y_test = ['Business' if i=='b' else 'Science/Tech' if i=='t' else 'Entertainment' if i=='e' else 'Health' if i=='m' else i for i in y_test]\n",
    "\n",
    "clf = KNeighborsClassifier(n_neighbors=2)\n",
    "clf.fit(X_train, y_train) # Fits the classifier to the data\n",
    "\n",
    "predictions = clf.predict(X_test)\n",
    "\n",
    "# Plot confusion matrix\n",
    "plot_confusion_matrix(clf, X_test, y_test, cmap=\"plasma\")  \n",
    "plt.show()\n",
    "\n",
    "# Print accuracy\n",
    "print(\"Accuracy: \" + str(round(clf.score(X_test, y_test), 4)))"
   ]
  },
  {
   "cell_type": "markdown",
   "metadata": {},
   "source": [
    "---\n",
    "## Discussion\n",
    "\n",
    "Reflect on your results, and how one might continue to improve them."
   ]
  },
  {
   "cell_type": "markdown",
   "metadata": {},
   "source": [
    "## Acknowledgments\n",
    "\n",
    "For each group member, describe what they did."
   ]
  },
  {
   "cell_type": "markdown",
   "metadata": {},
   "source": [
    "## Final meme\n",
    "\n",
    "Include here a meme describing your experience in this module."
   ]
  },
  {
   "cell_type": "code",
   "execution_count": null,
   "metadata": {},
   "outputs": [],
   "source": []
  }
 ],
 "metadata": {
  "kernelspec": {
   "display_name": "Python 3",
   "language": "python",
   "name": "python3"
  },
  "language_info": {
   "codemirror_mode": {
    "name": "ipython",
    "version": 3
   },
   "file_extension": ".py",
   "mimetype": "text/x-python",
   "name": "python",
   "nbconvert_exporter": "python",
   "pygments_lexer": "ipython3",
   "version": "3.10.2"
  }
 },
 "nbformat": 4,
 "nbformat_minor": 4
}
