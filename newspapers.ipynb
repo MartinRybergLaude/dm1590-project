{
 "cells": [
  {
   "cell_type": "markdown",
   "metadata": {},
   "source": [
    "# Title: DM1590 Final Project Template\n",
    "\n",
    "## Authors: Markus Brewitz, Linus Wallin, Saga Jonasson, Vilhelm Norström, Martin Ryberg Laude\n",
    "\n",
    "---"
   ]
  },
  {
   "cell_type": "markdown",
   "metadata": {},
   "source": [
    "### Background and motivation\n",
    "\n",
    "News articles come in a variety of subjects and categories describing their field and relevance. Some of these have self-reported tags, but too many do not, or provide inaccurate tags. Tagging articles has the potential to help information-seekers to judge the relevance of articles and filter them by interest, especially in this day and age where information is so abundant it can be exhausting. In this project we set out to use machine learning to tag articles based on their titles, to aid the effort of searching for relevant information."
   ]
  },
  {
   "cell_type": "markdown",
   "metadata": {},
   "source": [
    "### Dataset\n",
    "\n",
    "https://archive.ics.uci.edu/ml/datasets/News+Aggregator\n",
    "\n",
    "This dataset contains tags along with corresponding news titles, which we use to train our models."
   ]
  },
  {
   "cell_type": "markdown",
   "metadata": {},
   "source": [
    "### Methodology\n",
    "\n",
    "Describe what you are doing and how you are doing it."
   ]
  },
  {
   "cell_type": "markdown",
   "metadata": {},
   "source": [
    "---"
   ]
  },
  {
   "cell_type": "markdown",
   "metadata": {},
   "source": [
    "### Import dataset:"
   ]
  },
  {
   "cell_type": "code",
   "execution_count": 1,
   "metadata": {},
   "outputs": [
    {
     "name": "stdout",
     "output_type": "stream",
     "text": [
      "            id                                              title  \\\n",
      "0            1  Fed official says weak data caused by weather,...   \n",
      "1            2  Fed's Charles Plosser sees high bar for change...   \n",
      "2            3  US open: Stocks fall after Fed official hints ...   \n",
      "3            4  Fed risks falling 'behind the curve', Charles ...   \n",
      "4            5  Fed's Plosser: Nasty Weather Has Curbed Job Gr...   \n",
      "...        ...                                                ...   \n",
      "422414  422933  Surgeons to remove 4-year-old's rib to rebuild...   \n",
      "422415  422934  Boy to have surgery on esophagus after battery...   \n",
      "422416  422935  Child who swallowed battery to have reconstruc...   \n",
      "422417  422936  Phoenix boy undergoes surgery to repair throat...   \n",
      "422418  422937  Phoenix boy undergoes surgery to repair throat...   \n",
      "\n",
      "                                                      url          publisher  \\\n",
      "0       http://www.latimes.com/business/money/la-fi-mo...  Los Angeles Times   \n",
      "1       http://www.livemint.com/Politics/H2EvwJSK2VE6O...           Livemint   \n",
      "2       http://www.ifamagazine.com/news/us-open-stocks...       IFA Magazine   \n",
      "3       http://www.ifamagazine.com/news/fed-risks-fall...       IFA Magazine   \n",
      "4       http://www.moneynews.com/Economy/federal-reser...          Moneynews   \n",
      "...                                                   ...                ...   \n",
      "422414  http://www.cbs3springfield.com/story/26378648/...            WSHM-TV   \n",
      "422415  http://www.wlwt.com/news/boy-to-have-surgery-o...    WLWT Cincinnati   \n",
      "422416  http://www.newsnet5.com/news/local-news/child-...       NewsNet5.com   \n",
      "422417  http://www.wfsb.com/story/26368078/phoenix-boy...               WFSB   \n",
      "422418  http://www.cbs3springfield.com/story/26368078/...            WSHM-TV   \n",
      "\n",
      "       category                          story                 hostname  \\\n",
      "0             b  ddUyU0VZz0BRneMioxUPQVP6sIxvM          www.latimes.com   \n",
      "1             b  ddUyU0VZz0BRneMioxUPQVP6sIxvM         www.livemint.com   \n",
      "2             b  ddUyU0VZz0BRneMioxUPQVP6sIxvM      www.ifamagazine.com   \n",
      "3             b  ddUyU0VZz0BRneMioxUPQVP6sIxvM      www.ifamagazine.com   \n",
      "4             b  ddUyU0VZz0BRneMioxUPQVP6sIxvM        www.moneynews.com   \n",
      "...         ...                            ...                      ...   \n",
      "422414        m  dpcLMoJD69UYMXMxaoEFnWql9YjQM  www.cbs3springfield.com   \n",
      "422415        m  dpcLMoJD69UYMXMxaoEFnWql9YjQM             www.wlwt.com   \n",
      "422416        m  dpcLMoJD69UYMXMxaoEFnWql9YjQM         www.newsnet5.com   \n",
      "422417        m  dpcLMoJD69UYMXMxaoEFnWql9YjQM             www.wfsb.com   \n",
      "422418        m  dpcLMoJD69UYMXMxaoEFnWql9YjQM  www.cbs3springfield.com   \n",
      "\n",
      "            timestamp  \n",
      "0       1394470370698  \n",
      "1       1394470371207  \n",
      "2       1394470371550  \n",
      "3       1394470371793  \n",
      "4       1394470372027  \n",
      "...               ...  \n",
      "422414  1409229190251  \n",
      "422415  1409229190508  \n",
      "422416  1409229190771  \n",
      "422417  1409229191071  \n",
      "422418  1409229191565  \n",
      "\n",
      "[422419 rows x 8 columns]\n"
     ]
    }
   ],
   "source": [
    "import pandas as pd\n",
    "column_names = [\"id\", \"title\", \"url\", \"publisher\", \"category\", \"story\", \"hostname\", \"timestamp\"]\n",
    "data = pd.read_csv('NewsAggregatorDataset/newsCorpora.csv',sep='\\t',header=None, names=column_names)\n",
    "print(data)"
   ]
  },
  {
   "cell_type": "markdown",
   "metadata": {},
   "source": [
    "---\n",
    "## Discussion\n",
    "\n",
    "Reflect on your results, and how one might continue to improve them."
   ]
  },
  {
   "cell_type": "markdown",
   "metadata": {},
   "source": [
    "## Acknowledgments\n",
    "\n",
    "For each group member, describe what they did."
   ]
  },
  {
   "cell_type": "markdown",
   "metadata": {},
   "source": [
    "## Final meme\n",
    "\n",
    "Include here a meme describing your experience in this module."
   ]
  },
  {
   "cell_type": "code",
   "execution_count": null,
   "metadata": {},
   "outputs": [],
   "source": []
  }
 ],
 "metadata": {
  "kernelspec": {
   "display_name": "Python 3",
   "language": "python",
   "name": "python3"
  },
  "language_info": {
   "codemirror_mode": {
    "name": "ipython",
    "version": 3
   },
   "file_extension": ".py",
   "mimetype": "text/x-python",
   "name": "python",
   "nbconvert_exporter": "python",
   "pygments_lexer": "ipython3",
   "version": "3.10.2"
  }
 },
 "nbformat": 4,
 "nbformat_minor": 4
}
